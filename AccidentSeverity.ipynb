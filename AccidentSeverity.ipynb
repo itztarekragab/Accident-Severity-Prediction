{
 "cells": [
  {
   "cell_type": "markdown",
   "metadata": {
    "collapsed": true,
    "pycharm": {
     "name": "#%% md\n"
    }
   },
   "source": [
    "# Train Data Cleaning"
   ]
  },
  {
   "cell_type": "code",
   "execution_count": 66,
   "metadata": {
    "pycharm": {
     "name": "#%%\n"
    }
   },
   "outputs": [],
   "source": [
    "import pandas as pd"
   ]
  },
  {
   "cell_type": "code",
   "execution_count": 67,
   "metadata": {
    "pycharm": {
     "name": "#%%\n"
    }
   },
   "outputs": [],
   "source": [
    "def trainClean(path):\n",
    "    train_df = pd.read_csv(path)\n",
    "    train_df.drop(columns=['Bump','Roundabout'],axis=1,inplace=True)\n",
    "    train_df['RightLane'] = train_df['Side'].apply(lambda x: 1 if x == 'R' else 0)\n",
    "    train_df.drop('Side',axis=1,inplace=True)\n",
    "    for c in train_df.columns:\n",
    "        if train_df[c].dtype =='bool':\n",
    "            train_df[c] = train_df[c] * 1\n",
    "    train_df['date'] = train_df.timestamp.apply(lambda x: x.split()[0])\n",
    "    train_df['time'] = train_df.timestamp.apply(lambda x: x.split()[1])\n",
    "    train_df.drop('timestamp',axis=1,inplace=True)\n",
    "    return train_df"
   ]
  },
  {
   "cell_type": "code",
   "execution_count": 68,
   "metadata": {
    "pycharm": {
     "name": "#%%\n"
    }
   },
   "outputs": [
    {
     "data": {
      "text/plain": "   ID        Lat         Lng  Distance(mi)  Crossing  Give_Way  Junction  \\\n0   0  37.762150 -122.405660         0.044         0         0         0   \n1   1  37.719157 -122.448254         0.000         0         0         0   \n2   2  37.808498 -122.366852         0.000         0         0         0   \n3   3  37.785930 -122.391080         0.009         0         0         1   \n4   4  37.719141 -122.448457         0.000         0         0         0   \n\n   No_Exit  Railway  Stop  Amenity  Severity  RightLane        date  time  \n0        0        0     0        1         2          1  2016-03-25     2  \n1        0        0     0        0         2          1  2020-05-05     2  \n2        0        0     1        0         3          1  2016-09-16     2  \n3        0        0     0        0         1          1  2020-03-29     2  \n4        0        0     0        0         2          1  2019-10-09     1  ",
      "text/html": "<div>\n<style scoped>\n    .dataframe tbody tr th:only-of-type {\n        vertical-align: middle;\n    }\n\n    .dataframe tbody tr th {\n        vertical-align: top;\n    }\n\n    .dataframe thead th {\n        text-align: right;\n    }\n</style>\n<table border=\"1\" class=\"dataframe\">\n  <thead>\n    <tr style=\"text-align: right;\">\n      <th></th>\n      <th>ID</th>\n      <th>Lat</th>\n      <th>Lng</th>\n      <th>Distance(mi)</th>\n      <th>Crossing</th>\n      <th>Give_Way</th>\n      <th>Junction</th>\n      <th>No_Exit</th>\n      <th>Railway</th>\n      <th>Stop</th>\n      <th>Amenity</th>\n      <th>Severity</th>\n      <th>RightLane</th>\n      <th>date</th>\n      <th>time</th>\n    </tr>\n  </thead>\n  <tbody>\n    <tr>\n      <th>0</th>\n      <td>0</td>\n      <td>37.762150</td>\n      <td>-122.405660</td>\n      <td>0.044</td>\n      <td>0</td>\n      <td>0</td>\n      <td>0</td>\n      <td>0</td>\n      <td>0</td>\n      <td>0</td>\n      <td>1</td>\n      <td>2</td>\n      <td>1</td>\n      <td>2016-03-25</td>\n      <td>2</td>\n    </tr>\n    <tr>\n      <th>1</th>\n      <td>1</td>\n      <td>37.719157</td>\n      <td>-122.448254</td>\n      <td>0.000</td>\n      <td>0</td>\n      <td>0</td>\n      <td>0</td>\n      <td>0</td>\n      <td>0</td>\n      <td>0</td>\n      <td>0</td>\n      <td>2</td>\n      <td>1</td>\n      <td>2020-05-05</td>\n      <td>2</td>\n    </tr>\n    <tr>\n      <th>2</th>\n      <td>2</td>\n      <td>37.808498</td>\n      <td>-122.366852</td>\n      <td>0.000</td>\n      <td>0</td>\n      <td>0</td>\n      <td>0</td>\n      <td>0</td>\n      <td>0</td>\n      <td>1</td>\n      <td>0</td>\n      <td>3</td>\n      <td>1</td>\n      <td>2016-09-16</td>\n      <td>2</td>\n    </tr>\n    <tr>\n      <th>3</th>\n      <td>3</td>\n      <td>37.785930</td>\n      <td>-122.391080</td>\n      <td>0.009</td>\n      <td>0</td>\n      <td>0</td>\n      <td>1</td>\n      <td>0</td>\n      <td>0</td>\n      <td>0</td>\n      <td>0</td>\n      <td>1</td>\n      <td>1</td>\n      <td>2020-03-29</td>\n      <td>2</td>\n    </tr>\n    <tr>\n      <th>4</th>\n      <td>4</td>\n      <td>37.719141</td>\n      <td>-122.448457</td>\n      <td>0.000</td>\n      <td>0</td>\n      <td>0</td>\n      <td>0</td>\n      <td>0</td>\n      <td>0</td>\n      <td>0</td>\n      <td>0</td>\n      <td>2</td>\n      <td>1</td>\n      <td>2019-10-09</td>\n      <td>1</td>\n    </tr>\n  </tbody>\n</table>\n</div>"
     },
     "execution_count": 68,
     "metadata": {},
     "output_type": "execute_result"
    }
   ],
   "source": [
    "def fact_time(x):\n",
    "    if int(x.split(':')[1])>30:\n",
    "        x = int(x.split(':')[0])+1\n",
    "    else:\n",
    "        x = int(x.split(':')[0])\n",
    "\n",
    "    if 3 <= x < 9:\n",
    "        return 0\n",
    "    elif 9 <= x < 15:\n",
    "        return 1\n",
    "    elif 15 <= x < 21:\n",
    "        return 2\n",
    "    else:\n",
    "        return 3\n",
    "\n",
    "train_df = trainClean('train.csv')\n",
    "train_df['time'] = train_df.time.apply(fact_time)\n",
    "train_df.head()"
   ]
  },
  {
   "cell_type": "markdown",
   "metadata": {
    "pycharm": {
     "name": "#%% md\n"
    }
   },
   "source": [
    "# Weather Data Cleaning"
   ]
  },
  {
   "cell_type": "code",
   "execution_count": 69,
   "metadata": {
    "pycharm": {
     "name": "#%%\n"
    }
   },
   "outputs": [
    {
     "name": "stderr",
     "output_type": "stream",
     "text": [
      "C:\\Users\\TAREK\\AppData\\Local\\Temp/ipykernel_8552/1956976349.py:14: FutureWarning: Dropping of nuisance columns in DataFrame reductions (with 'numeric_only=None') is deprecated; in a future version this will raise TypeError.  Select only valid columns before calling the reduction.\n",
      "  weather_df.fillna(weather_df.mean(),inplace=True)\n"
     ]
    },
    {
     "data": {
      "text/plain": "   Weather_Condition  Wind_Chill(F)  Precipitation(in)  Temperature(F)  \\\n0                  0      64.000000           0.000000            64.0   \n1                  1      59.762515           0.006444            71.1   \n2                  1      59.762515           0.006444            57.9   \n3                  0      59.762515           0.006444            66.9   \n4                  0      52.000000           0.000000            52.0   \n\n   Humidity(%)  Wind_Speed(mph)  Visibility(mi)        Date  Time  \n0         70.0             20.0            10.0  2020-07-27     2  \n1         57.0              9.2            10.0  2017-09-30     2  \n2         87.0             15.0             9.0  2017-06-27     0  \n3         73.0              4.6            10.0  2016-09-07     1  \n4         89.0              0.0             9.0  2019-10-19     3  ",
      "text/html": "<div>\n<style scoped>\n    .dataframe tbody tr th:only-of-type {\n        vertical-align: middle;\n    }\n\n    .dataframe tbody tr th {\n        vertical-align: top;\n    }\n\n    .dataframe thead th {\n        text-align: right;\n    }\n</style>\n<table border=\"1\" class=\"dataframe\">\n  <thead>\n    <tr style=\"text-align: right;\">\n      <th></th>\n      <th>Weather_Condition</th>\n      <th>Wind_Chill(F)</th>\n      <th>Precipitation(in)</th>\n      <th>Temperature(F)</th>\n      <th>Humidity(%)</th>\n      <th>Wind_Speed(mph)</th>\n      <th>Visibility(mi)</th>\n      <th>Date</th>\n      <th>Time</th>\n    </tr>\n  </thead>\n  <tbody>\n    <tr>\n      <th>0</th>\n      <td>0</td>\n      <td>64.000000</td>\n      <td>0.000000</td>\n      <td>64.0</td>\n      <td>70.0</td>\n      <td>20.0</td>\n      <td>10.0</td>\n      <td>2020-07-27</td>\n      <td>2</td>\n    </tr>\n    <tr>\n      <th>1</th>\n      <td>1</td>\n      <td>59.762515</td>\n      <td>0.006444</td>\n      <td>71.1</td>\n      <td>57.0</td>\n      <td>9.2</td>\n      <td>10.0</td>\n      <td>2017-09-30</td>\n      <td>2</td>\n    </tr>\n    <tr>\n      <th>2</th>\n      <td>1</td>\n      <td>59.762515</td>\n      <td>0.006444</td>\n      <td>57.9</td>\n      <td>87.0</td>\n      <td>15.0</td>\n      <td>9.0</td>\n      <td>2017-06-27</td>\n      <td>0</td>\n    </tr>\n    <tr>\n      <th>3</th>\n      <td>0</td>\n      <td>59.762515</td>\n      <td>0.006444</td>\n      <td>66.9</td>\n      <td>73.0</td>\n      <td>4.6</td>\n      <td>10.0</td>\n      <td>2016-09-07</td>\n      <td>1</td>\n    </tr>\n    <tr>\n      <th>4</th>\n      <td>0</td>\n      <td>52.000000</td>\n      <td>0.000000</td>\n      <td>52.0</td>\n      <td>89.0</td>\n      <td>0.0</td>\n      <td>9.0</td>\n      <td>2019-10-19</td>\n      <td>3</td>\n    </tr>\n  </tbody>\n</table>\n</div>"
     },
     "execution_count": 69,
     "metadata": {},
     "output_type": "execute_result"
    }
   ],
   "source": [
    "def single_n(n):\n",
    "    n = str(n)\n",
    "    if len(n)<2:\n",
    "        return '0'+n\n",
    "    return n\n",
    "\n",
    "def weatherClean(path):\n",
    "    weather_df = pd.read_csv(path)\n",
    "    weather_df['Date']=weather_df['Year'].astype(str)+'-'+weather_df['Month'].apply(single_n)+'-'+weather_df['Day'].apply(single_n)\n",
    "    weather_df['Time']=weather_df['Hour'].astype(str)+':00'\n",
    "    \n",
    "    weather_df = weather_df.drop(columns=['Month','Day','Year','Hour','Selected'])\n",
    "    \n",
    "    weather_df.fillna(weather_df.mean(),inplace=True)\n",
    "    \n",
    "    weather_df['Weather_Condition'] = weather_df.Weather_Condition.apply(lambda x: 'Rain' if any(i in str(x) for i in ['Rain', 'Drizzle', 'Squalls']) else x)\n",
    "    weather_df['Weather_Condition'] = weather_df.Weather_Condition.apply(lambda x: 'Fog' if any(i in str(x) for i in ['Fog', 'Haze', 'Smoke', 'Mist']) else x)\n",
    "    weather_df['Weather_Condition'] = weather_df.Weather_Condition.apply(lambda x: 'Cloud' if any(i in str(x) for i in ['Cloud', 'Overcast']) else x)\n",
    "    weather_df['Weather_Condition'] = weather_df.Weather_Condition.apply(lambda x: 'Clear' if any(i in str(x) for i in ['Clear', 'Fair']) else x)\n",
    "    labels, uniques = pd.factorize(weather_df['Weather_Condition'])\n",
    "    weather_df['Weather_Condition'] = labels\n",
    "    \n",
    "    weather_df['Time'] = weather_df.Time.apply(fact_time)\n",
    "    weather_df.drop_duplicates(subset=['Date'],inplace=True)\n",
    "\n",
    "    return weather_df\n",
    "\n",
    "train_weather_df = weatherClean('weather-data.csv')\n",
    "train_weather_df.head()"
   ]
  },
  {
   "cell_type": "markdown",
   "metadata": {},
   "source": [
    "# Holiday Data"
   ]
  },
  {
   "cell_type": "code",
   "execution_count": 70,
   "metadata": {
    "pycharm": {
     "name": "#%%\n"
    }
   },
   "outputs": [],
   "source": [
    "# def holidayClean(path):\n",
    "#     holiday_df = pd.read_xml(path)\n",
    "#     holiday_df['description'] = 1\n",
    "#     holiday_df = holiday_df.rename(columns={'description': 'holiday'})\n",
    "#     return holiday_df\n",
    "\n",
    "# train_holiday_df = holidayClean('holidays.xml')"
   ]
  },
  {
   "cell_type": "code",
   "execution_count": 71,
   "metadata": {
    "pycharm": {
     "name": "#%%\n"
    }
   },
   "outputs": [
    {
     "name": "stdout",
     "output_type": "stream",
     "text": [
      "Lat          0.099581\n",
      "Lng          0.145313\n",
      "Crossing    -0.090314\n",
      "Junction    -0.068328\n",
      "Stop         0.229269\n",
      "Amenity     -0.078915\n",
      "Severity     1.000000\n",
      "RightLane    0.060545\n",
      "Name: Severity, dtype: float64\n",
      "<class 'pandas.core.frame.DataFrame'>\n",
      "Int64Index: 6407 entries, 0 to 6406\n",
      "Data columns (total 8 columns):\n",
      " #   Column     Non-Null Count  Dtype  \n",
      "---  ------     --------------  -----  \n",
      " 0   Lat        6407 non-null   float64\n",
      " 1   Lng        6407 non-null   float64\n",
      " 2   Crossing   6407 non-null   int32  \n",
      " 3   Junction   6407 non-null   int32  \n",
      " 4   Stop       6407 non-null   int32  \n",
      " 5   Amenity    6407 non-null   int32  \n",
      " 6   Severity   6407 non-null   int64  \n",
      " 7   RightLane  6407 non-null   int64  \n",
      "dtypes: float64(2), int32(4), int64(2)\n",
      "memory usage: 350.4 KB\n",
      "None\n"
     ]
    }
   ],
   "source": [
    "def trainFinalMerge(df,wdf):#,hdf):\n",
    "    final_df = df.merge(wdf,how='left',left_on=['date','time'],right_on=['Date','Time'])\n",
    "#     final_df = final_df.merge(hdf,how='left',left_on=['Date'],right_on=['date'])\n",
    "#     final_df['holiday'] = final_df['holiday'].fillna(0)\n",
    "    dropped_columns = ['Date','date','Give_Way','No_Exit','time','Temperature(F)','Time'\n",
    "                       ,'Wind_Chill(F)','Humidity(%)','Wind_Speed(mph)','Distance(mi)','Precipitation(in)','Visibility(mi)',\n",
    "                      'Railway','Weather_Condition']\n",
    "    final_df = final_df.drop(columns=dropped_columns)\n",
    "#     final_df = final_df.drop_duplicates('ID')\n",
    "    final_df.drop(columns=['ID'],inplace=True)\n",
    "    final_df.fillna(final_df.mean(),inplace=True)\n",
    "    return final_df\n",
    "\n",
    "train_final_df = trainFinalMerge(train_df,train_weather_df)#,train_holiday_df)\n",
    "print(train_final_df.corr()['Severity'])\n",
    "print(train_final_df.info())"
   ]
  },
  {
   "cell_type": "code",
   "execution_count": 72,
   "metadata": {
    "pycharm": {
     "name": "#%%\n"
    }
   },
   "outputs": [],
   "source": [
    "def testFinalMerge(df,wdf):#,hdf):\n",
    "    final_df = df.merge(wdf,how='left',left_on=['date','time'],right_on=['Date','Time'])\n",
    "    # final_df = final_df.merge(hdf,how='left',left_on=['Date'],right_on=['date'])\n",
    "    # final_df['holiday'] = final_df['holiday'].fillna(0)\n",
    "    final_df.fillna(final_df.mean(),inplace=True)\n",
    "#     final_df.drop_duplicates(inplace=True)\n",
    "    dropped_columns = ['Date','date','Give_Way','No_Exit','time','Temperature(F)','Time'\n",
    "                       ,'Wind_Chill(F)','Humidity(%)','Wind_Speed(mph)','Distance(mi)','Precipitation(in)','Visibility(mi)',\n",
    "                      'Railway','Weather_Condition']\n",
    "    final_df = final_df.drop(columns=dropped_columns)\n",
    "    final_df = final_df.drop_duplicates('ID')\n",
    "    final_df.fillna(final_df.mean(),inplace=True)\n",
    "    return final_df"
   ]
  },
  {
   "cell_type": "markdown",
   "metadata": {
    "pycharm": {
     "name": "#%% md\n"
    }
   },
   "source": [
    "# Model Evaluation\n"
   ]
  },
  {
   "cell_type": "code",
   "execution_count": 73,
   "metadata": {
    "pycharm": {
     "name": "#%%\n"
    }
   },
   "outputs": [],
   "source": [
    "from sklearn.model_selection import train_test_split\n",
    "\n",
    "train_df, val_df = train_test_split(train_final_df, test_size=0.2, random_state=42) # Try adding `stratify` here\n",
    "\n",
    "x_train = train_df.drop(columns=['Severity'])\n",
    "y_train = train_df['Severity']\n",
    "\n",
    "x_test = val_df.drop(columns=['Severity'])\n",
    "y_test = val_df['Severity']\n"
   ]
  },
  {
   "cell_type": "code",
   "execution_count": 74,
   "metadata": {
    "pycharm": {
     "name": "#%%\n"
    }
   },
   "outputs": [],
   "source": [
    "from sklearn.ensemble import RandomForestClassifier\n",
    "\n",
    "classifier = RandomForestClassifier(random_state=42,max_depth=2)\n",
    "classifier = classifier.fit(x_train, y_train)"
   ]
  },
  {
   "cell_type": "code",
   "execution_count": 75,
   "metadata": {
    "pycharm": {
     "name": "#%%\n"
    }
   },
   "outputs": [
    {
     "name": "stdout",
     "output_type": "stream",
     "text": [
      "0.7425897035881436\n"
     ]
    }
   ],
   "source": [
    "print(classifier.score(x_test, y_test))"
   ]
  },
  {
   "cell_type": "code",
   "execution_count": 76,
   "metadata": {
    "pycharm": {
     "name": "#%%\n"
    }
   },
   "outputs": [
    {
     "name": "stdout",
     "output_type": "stream",
     "text": [
      "<class 'pandas.core.frame.DataFrame'>\n",
      "Int64Index: 1601 entries, 0 to 1600\n",
      "Data columns (total 8 columns):\n",
      " #   Column     Non-Null Count  Dtype  \n",
      "---  ------     --------------  -----  \n",
      " 0   ID         1601 non-null   int64  \n",
      " 1   Lat        1601 non-null   float64\n",
      " 2   Lng        1601 non-null   float64\n",
      " 3   Crossing   1601 non-null   int32  \n",
      " 4   Junction   1601 non-null   int32  \n",
      " 5   Stop       1601 non-null   int32  \n",
      " 6   Amenity    1601 non-null   int32  \n",
      " 7   RightLane  1601 non-null   int64  \n",
      "dtypes: float64(2), int32(4), int64(2)\n",
      "memory usage: 87.6 KB\n"
     ]
    },
    {
     "name": "stderr",
     "output_type": "stream",
     "text": [
      "C:\\Users\\TAREK\\AppData\\Local\\Temp/ipykernel_8552/1956976349.py:14: FutureWarning: Dropping of nuisance columns in DataFrame reductions (with 'numeric_only=None') is deprecated; in a future version this will raise TypeError.  Select only valid columns before calling the reduction.\n",
      "  weather_df.fillna(weather_df.mean(),inplace=True)\n",
      "C:\\Users\\TAREK\\AppData\\Local\\Temp/ipykernel_8552/4105230949.py:5: FutureWarning: Dropping of nuisance columns in DataFrame reductions (with 'numeric_only=None') is deprecated; in a future version this will raise TypeError.  Select only valid columns before calling the reduction.\n",
      "  final_df.fillna(final_df.mean(),inplace=True)\n"
     ]
    }
   ],
   "source": [
    "test_df = trainClean('test.csv')\n",
    "test_df['time'] = test_df.time.apply(fact_time)\n",
    "test_weather_df = weatherClean('weather-data.csv')\n",
    "# test_holiday_df = holidayClean('holidays.xml')\n",
    "test_final_df = testFinalMerge(test_df,test_weather_df)#,test_holiday_df)\n",
    "test_final_df.info()"
   ]
  },
  {
   "cell_type": "code",
   "execution_count": 77,
   "metadata": {},
   "outputs": [
    {
     "data": {
      "text/plain": "     ID        Lat         Lng  Crossing  Junction  Stop  Amenity  RightLane  \\\n0  6407  37.786060 -122.390900         0         1     0        0          1   \n1  6408  37.769609 -122.415057         0         0     0        0          1   \n2  6409  37.807495 -122.476021         0         0     0        0          1   \n3  6410  37.761818 -122.405869         0         1     0        0          1   \n4  6411  37.732350 -122.414100         0         0     0        0          1   \n\n   Severity  \n0         2  \n1         2  \n2         2  \n3         2  \n4         2  ",
      "text/html": "<div>\n<style scoped>\n    .dataframe tbody tr th:only-of-type {\n        vertical-align: middle;\n    }\n\n    .dataframe tbody tr th {\n        vertical-align: top;\n    }\n\n    .dataframe thead th {\n        text-align: right;\n    }\n</style>\n<table border=\"1\" class=\"dataframe\">\n  <thead>\n    <tr style=\"text-align: right;\">\n      <th></th>\n      <th>ID</th>\n      <th>Lat</th>\n      <th>Lng</th>\n      <th>Crossing</th>\n      <th>Junction</th>\n      <th>Stop</th>\n      <th>Amenity</th>\n      <th>RightLane</th>\n      <th>Severity</th>\n    </tr>\n  </thead>\n  <tbody>\n    <tr>\n      <th>0</th>\n      <td>6407</td>\n      <td>37.786060</td>\n      <td>-122.390900</td>\n      <td>0</td>\n      <td>1</td>\n      <td>0</td>\n      <td>0</td>\n      <td>1</td>\n      <td>2</td>\n    </tr>\n    <tr>\n      <th>1</th>\n      <td>6408</td>\n      <td>37.769609</td>\n      <td>-122.415057</td>\n      <td>0</td>\n      <td>0</td>\n      <td>0</td>\n      <td>0</td>\n      <td>1</td>\n      <td>2</td>\n    </tr>\n    <tr>\n      <th>2</th>\n      <td>6409</td>\n      <td>37.807495</td>\n      <td>-122.476021</td>\n      <td>0</td>\n      <td>0</td>\n      <td>0</td>\n      <td>0</td>\n      <td>1</td>\n      <td>2</td>\n    </tr>\n    <tr>\n      <th>3</th>\n      <td>6410</td>\n      <td>37.761818</td>\n      <td>-122.405869</td>\n      <td>0</td>\n      <td>1</td>\n      <td>0</td>\n      <td>0</td>\n      <td>1</td>\n      <td>2</td>\n    </tr>\n    <tr>\n      <th>4</th>\n      <td>6411</td>\n      <td>37.732350</td>\n      <td>-122.414100</td>\n      <td>0</td>\n      <td>0</td>\n      <td>0</td>\n      <td>0</td>\n      <td>1</td>\n      <td>2</td>\n    </tr>\n  </tbody>\n</table>\n</div>"
     },
     "execution_count": 77,
     "metadata": {},
     "output_type": "execute_result"
    }
   ],
   "source": [
    "test = test_final_df.drop(columns=['ID'])\n",
    "\n",
    "# You should update/remove the next line once you change the features used for training\n",
    "y_test_predicted = classifier.predict(test)\n",
    "\n",
    "test_final_df['Severity'] = y_test_predicted\n",
    "\n",
    "test_final_df.head()"
   ]
  },
  {
   "cell_type": "code",
   "execution_count": 78,
   "metadata": {
    "pycharm": {
     "name": "#%%\n"
    }
   },
   "outputs": [],
   "source": [
    "test_final_df[['ID', 'Severity']].to_csv('submission.csv', index=False)"
   ]
  }
 ],
 "metadata": {
  "kernelspec": {
   "name": "python3",
   "language": "python",
   "display_name": "Python 3 (ipykernel)"
  },
  "language_info": {
   "codemirror_mode": {
    "name": "ipython",
    "version": 3
   },
   "file_extension": ".py",
   "mimetype": "text/x-python",
   "name": "python",
   "nbconvert_exporter": "python",
   "pygments_lexer": "ipython3",
   "version": "3.8.10"
  }
 },
 "nbformat": 4,
 "nbformat_minor": 1
}